{
 "cells": [
  {
   "cell_type": "code",
   "execution_count": 1,
   "metadata": {},
   "outputs": [],
   "source": [
    "import sys\n",
    "import warnings\n",
    "\n",
    "if not sys.warnoptions:\n",
    "    warnings.simplefilter('ignore')"
   ]
  },
  {
   "cell_type": "code",
   "execution_count": 2,
   "metadata": {},
   "outputs": [],
   "source": [
    "import tensorflow as tf\n",
    "import numpy as np\n",
    "import matplotlib.pyplot as plt\n",
    "import seaborn as sns\n",
    "import pandas as pd\n",
    "from sklearn.preprocessing import MinMaxScaler\n",
    "from datetime import datetime\n",
    "from datetime import timedelta\n",
    "from tqdm import tqdm\n",
    "sns.set()"
   ]
  },
  {
   "cell_type": "code",
   "execution_count": 3,
   "metadata": {},
   "outputs": [
    {
     "data": {
      "text/html": [
       "<div>\n",
       "<style scoped>\n",
       "    .dataframe tbody tr th:only-of-type {\n",
       "        vertical-align: middle;\n",
       "    }\n",
       "\n",
       "    .dataframe tbody tr th {\n",
       "        vertical-align: top;\n",
       "    }\n",
       "\n",
       "    .dataframe thead th {\n",
       "        text-align: right;\n",
       "    }\n",
       "</style>\n",
       "<table border=\"1\" class=\"dataframe\">\n",
       "  <thead>\n",
       "    <tr style=\"text-align: right;\">\n",
       "      <th></th>\n",
       "      <th>index</th>\n",
       "      <th>dates</th>\n",
       "      <th>HC</th>\n",
       "      <th>HI</th>\n",
       "      <th>HCHI</th>\n",
       "    </tr>\n",
       "  </thead>\n",
       "  <tbody>\n",
       "    <tr>\n",
       "      <th>0</th>\n",
       "      <td>0</td>\n",
       "      <td>2018-11-07 17:15:00</td>\n",
       "      <td>10671</td>\n",
       "      <td>26164</td>\n",
       "      <td>0.407850</td>\n",
       "    </tr>\n",
       "    <tr>\n",
       "      <th>1</th>\n",
       "      <td>1</td>\n",
       "      <td>2018-11-07 17:16:00</td>\n",
       "      <td>10725</td>\n",
       "      <td>26263</td>\n",
       "      <td>0.408369</td>\n",
       "    </tr>\n",
       "    <tr>\n",
       "      <th>2</th>\n",
       "      <td>2</td>\n",
       "      <td>2018-11-07 17:17:00</td>\n",
       "      <td>10726</td>\n",
       "      <td>26262</td>\n",
       "      <td>0.408423</td>\n",
       "    </tr>\n",
       "    <tr>\n",
       "      <th>3</th>\n",
       "      <td>3</td>\n",
       "      <td>2018-11-07 17:18:00</td>\n",
       "      <td>10727</td>\n",
       "      <td>26269</td>\n",
       "      <td>0.408352</td>\n",
       "    </tr>\n",
       "    <tr>\n",
       "      <th>4</th>\n",
       "      <td>4</td>\n",
       "      <td>2018-11-07 17:19:00</td>\n",
       "      <td>10733</td>\n",
       "      <td>26274</td>\n",
       "      <td>0.408503</td>\n",
       "    </tr>\n",
       "  </tbody>\n",
       "</table>\n",
       "</div>"
      ],
      "text/plain": [
       "   index               dates     HC     HI      HCHI\n",
       "0      0 2018-11-07 17:15:00  10671  26164  0.407850\n",
       "1      1 2018-11-07 17:16:00  10725  26263  0.408369\n",
       "2      2 2018-11-07 17:17:00  10726  26262  0.408423\n",
       "3      3 2018-11-07 17:18:00  10727  26269  0.408352\n",
       "4      4 2018-11-07 17:19:00  10733  26274  0.408503"
      ]
     },
     "execution_count": 3,
     "metadata": {},
     "output_type": "execute_result"
    }
   ],
   "source": [
    "df = pd.read_excel('../dataset/hchi_ratio_25k.xlsx')\n",
    "df = df.reset_index()\n",
    "df.head()"
   ]
  },
  {
   "cell_type": "code",
   "execution_count": 4,
   "metadata": {},
   "outputs": [],
   "source": [
    "TEST_SIZE = 1440 # minutes\n",
    "DATASET_SIZE = df.shape[0] # rows"
   ]
  },
  {
   "cell_type": "code",
   "execution_count": 5,
   "metadata": {},
   "outputs": [
    {
     "data": {
      "text/plain": [
       "(23560, 1)"
      ]
     },
     "execution_count": 5,
     "metadata": {},
     "output_type": "execute_result"
    }
   ],
   "source": [
    "minmax = MinMaxScaler().fit(df.loc[:DATASET_SIZE - TEST_SIZE - 1, 'HCHI'].astype('float32').values.reshape(-1, 1)) # select HCHI ratio column\n",
    "df_log = minmax.transform(df.loc[:DATASET_SIZE - TEST_SIZE - 1, 'HCHI'].astype('float32').values.reshape(-1, 1)) # select HCHI ratio column\n",
    "df_log = pd.DataFrame(df_log)\n",
    "df_log.shape"
   ]
  },
  {
   "cell_type": "markdown",
   "metadata": {},
   "source": [
    "## Forecast\n",
    "\n",
    "This example is using model 1.lstm, if you want to use another model, need to tweak a little bit, but I believe it is not that hard.\n",
    "\n",
    "I want to forecast 30 days ahead! So just change `test_size` to forecast `t + N` ahead.\n",
    "\n",
    "Also, I want to simulate 10 times, 10 variances of forecasted patterns. Just change `simulation_size`."
   ]
  },
  {
   "cell_type": "code",
   "execution_count": 6,
   "metadata": {},
   "outputs": [
    {
     "data": {
      "text/plain": [
       "((25000, 5), (23560, 1))"
      ]
     },
     "execution_count": 6,
     "metadata": {},
     "output_type": "execute_result"
    }
   ],
   "source": [
    "simulation_size = 1\n",
    "num_layers = 1\n",
    "size_layer = 128\n",
    "timestamp = 5\n",
    "epoch = 300\n",
    "dropout_rate = 0.8\n",
    "test_size = TEST_SIZE\n",
    "learning_rate = 0.01\n",
    "\n",
    "df_train = df_log\n",
    "df.shape, df_train.shape"
   ]
  },
  {
   "cell_type": "code",
   "execution_count": 7,
   "metadata": {},
   "outputs": [],
   "source": [
    "class Model:\n",
    "    def __init__(\n",
    "        self,\n",
    "        learning_rate,\n",
    "        num_layers,\n",
    "        size,\n",
    "        size_layer,\n",
    "        output_size,\n",
    "        forget_bias = 0.1,\n",
    "    ):\n",
    "        def lstm_cell(size_layer):\n",
    "            return tf.nn.rnn_cell.LSTMCell(size_layer, state_is_tuple = False)\n",
    "\n",
    "        rnn_cells = tf.nn.rnn_cell.MultiRNNCell(\n",
    "            [lstm_cell(size_layer) for _ in range(num_layers)],\n",
    "            state_is_tuple = False,\n",
    "        )\n",
    "        self.X = tf.placeholder(tf.float32, (None, None, size))\n",
    "        self.Y = tf.placeholder(tf.float32, (None, output_size))\n",
    "        drop = tf.contrib.rnn.DropoutWrapper(\n",
    "            rnn_cells, output_keep_prob = forget_bias\n",
    "        )\n",
    "        self.hidden_layer = tf.placeholder(\n",
    "            tf.float32, (None, num_layers * 2 * size_layer)\n",
    "        )\n",
    "        self.outputs, self.last_state = tf.nn.dynamic_rnn(\n",
    "            drop, self.X, initial_state = self.hidden_layer, dtype = tf.float32\n",
    "        )\n",
    "        self.logits = tf.layers.dense(self.outputs[-1], output_size)\n",
    "        self.cost = tf.reduce_mean(tf.square(self.Y - self.logits))\n",
    "        self.optimizer = tf.train.AdamOptimizer(learning_rate).minimize(\n",
    "            self.cost\n",
    "        )\n",
    "        \n",
    "def calculate_accuracy(real, predict):\n",
    "    real = np.array(real)\n",
    "    predict = np.array(predict)\n",
    "    percentage = 1 - np.sqrt(np.mean(np.square((real - predict) / real)))\n",
    "    return percentage * 100\n",
    "\n",
    "def anchor(signal, weight):\n",
    "    buffer = []\n",
    "    last = signal[0]\n",
    "    for i in signal:\n",
    "        smoothed_val = last * weight + (1 - weight) * i\n",
    "        buffer.append(smoothed_val)\n",
    "        last = smoothed_val\n",
    "    return buffer"
   ]
  },
  {
   "cell_type": "code",
   "execution_count": 8,
   "metadata": {},
   "outputs": [],
   "source": [
    "from tensorflow.python.framework import ops\n",
    "\n",
    "def forecast():\n",
    "    ops.reset_default_graph()\n",
    "#     tf.reset_default_graph()\n",
    "    modelnn = Model(\n",
    "        learning_rate, num_layers, df_log.shape[1], size_layer, df_log.shape[1], dropout_rate\n",
    "    )\n",
    "    sess = tf.InteractiveSession()\n",
    "    sess.run(tf.global_variables_initializer())\n",
    "    date_ori = pd.to_datetime(df.iloc[:, 0]).tolist()\n",
    "\n",
    "    pbar = tqdm(range(epoch), desc = 'train loop')\n",
    "    for i in pbar:\n",
    "        init_value = np.zeros((1, num_layers * 2 * size_layer))\n",
    "        total_loss, total_acc = [], []\n",
    "        for k in range(0, df_train.shape[0] - 1, timestamp):\n",
    "            index = min(k + timestamp, df_train.shape[0] - 1)\n",
    "            batch_x = np.expand_dims(\n",
    "                df_train.iloc[k : index, :].values, axis = 0\n",
    "            )\n",
    "            batch_y = df_train.iloc[k + 1 : index + 1, :].values\n",
    "            logits, last_state, _, loss = sess.run(\n",
    "                [modelnn.logits, modelnn.last_state, modelnn.optimizer, modelnn.cost],\n",
    "                feed_dict = {\n",
    "                    modelnn.X: batch_x,\n",
    "                    modelnn.Y: batch_y,\n",
    "                    modelnn.hidden_layer: init_value,\n",
    "                },\n",
    "            )        \n",
    "            init_value = last_state\n",
    "            total_loss.append(loss)\n",
    "            total_acc.append(calculate_accuracy(batch_y[:, 0], logits[:, 0]))\n",
    "        pbar.set_postfix(cost = np.mean(total_loss), acc = np.mean(total_acc))\n",
    "    \n",
    "    future_day = test_size\n",
    "\n",
    "    output_predict = np.zeros((df_train.shape[0] + future_day, df_train.shape[1]))\n",
    "    output_predict[0] = df_train.iloc[0]\n",
    "    upper_b = (df_train.shape[0] // timestamp) * timestamp\n",
    "    init_value = np.zeros((1, num_layers * 2 * size_layer))\n",
    "\n",
    "    for k in range(0, (df_train.shape[0] // timestamp) * timestamp, timestamp):\n",
    "        out_logits, last_state = sess.run(\n",
    "            [modelnn.logits, modelnn.last_state],\n",
    "            feed_dict = {\n",
    "                modelnn.X: np.expand_dims(\n",
    "                    df_train.iloc[k : k + timestamp], axis = 0\n",
    "                ),\n",
    "                modelnn.hidden_layer: init_value,\n",
    "            },\n",
    "        )\n",
    "        init_value = last_state\n",
    "        output_predict[k + 1 : k + timestamp + 1] = out_logits\n",
    "\n",
    "    if upper_b != df_train.shape[0]:\n",
    "        out_logits, last_state = sess.run(\n",
    "            [modelnn.logits, modelnn.last_state],\n",
    "            feed_dict = {\n",
    "                modelnn.X: np.expand_dims(df_train.iloc[upper_b:], axis = 0),\n",
    "                modelnn.hidden_layer: init_value,\n",
    "            },\n",
    "        )\n",
    "        output_predict[upper_b + 1 : df_train.shape[0] + 1] = out_logits\n",
    "        future_day -= 1\n",
    "        date_ori.append(date_ori[-1] + timedelta(days = 1))\n",
    "\n",
    "    init_value = last_state\n",
    "    \n",
    "    for i in range(future_day):\n",
    "        o = output_predict[-future_day - timestamp + i:-future_day + i]\n",
    "        out_logits, last_state = sess.run(\n",
    "            [modelnn.logits, modelnn.last_state],\n",
    "            feed_dict = {\n",
    "                modelnn.X: np.expand_dims(o, axis = 0),\n",
    "                modelnn.hidden_layer: init_value,\n",
    "            },\n",
    "        )\n",
    "        init_value = last_state\n",
    "        output_predict[-future_day + i] = out_logits[-1]\n",
    "        date_ori.append(date_ori[-1] + timedelta(days = 1))\n",
    "    \n",
    "    output_predict = minmax.inverse_transform(output_predict)\n",
    "    deep_future = anchor(output_predict[:, 0], 0.4)\n",
    "    \n",
    "    return deep_future"
   ]
  },
  {
   "cell_type": "code",
   "execution_count": 9,
   "metadata": {},
   "outputs": [
    {
     "name": "stdout",
     "output_type": "stream",
     "text": [
      "simulation 1\n",
      "WARNING:tensorflow:<tensorflow.python.ops.rnn_cell_impl.LSTMCell object at 0x000001B385649BE0>: Using a concatenated state is slower and will soon be deprecated.  Use state_is_tuple=True.\n"
     ]
    },
    {
     "name": "stderr",
     "output_type": "stream",
     "text": [
      "train loop: 100%|███████████| 300/300 [10:36:38<00:00, 127.33s/it, acc=-inf, cost=0.00144]\n"
     ]
    }
   ],
   "source": [
    "results = []\n",
    "for i in range(simulation_size):\n",
    "    print('simulation %d'%(i + 1))\n",
    "    results.append(forecast())"
   ]
  },
  {
   "cell_type": "code",
   "execution_count": 10,
   "metadata": {},
   "outputs": [
    {
     "data": {
      "text/plain": [
       "24995   2018-12-19 17:41:00\n",
       "24996   2018-12-19 17:42:00\n",
       "24997   2018-12-19 17:43:00\n",
       "24998   2018-12-19 17:44:00\n",
       "24999   2018-12-19 17:45:00\n",
       "Name: dates, dtype: datetime64[ns]"
      ]
     },
     "execution_count": 10,
     "metadata": {},
     "output_type": "execute_result"
    }
   ],
   "source": [
    "date_ori = df.loc[:, 'dates']\n",
    "date_ori[-5:]"
   ]
  },
  {
   "cell_type": "markdown",
   "metadata": {},
   "source": [
    "## Sanity check\n",
    "\n",
    "Some of our models might not have stable gradient, so forecasted trend might really hangwired. You can use many methods to filter out unstable models.\n",
    "\n",
    "This method is very simple,\n",
    "1. If one of element in forecasted trend lower than min(original trend).\n",
    "2. If one of element in forecasted trend bigger than max(original trend) * 2.\n",
    "\n",
    "If both are true, reject that trend."
   ]
  },
  {
   "cell_type": "code",
   "execution_count": 11,
   "metadata": {},
   "outputs": [
    {
     "data": {
      "text/plain": [
       "1"
      ]
     },
     "execution_count": 11,
     "metadata": {},
     "output_type": "execute_result"
    }
   ],
   "source": [
    "accepted_results = []\n",
    "for r in results:\n",
    "    if (np.array(r[-test_size:]) < np.min(df['HCHI'])).sum() == 0 and \\\n",
    "    (np.array(r[-test_size:]) > np.max(df['HCHI']) * 2).sum() == 0:\n",
    "        accepted_results.append(r)\n",
    "len(accepted_results)"
   ]
  },
  {
   "cell_type": "code",
   "execution_count": 12,
   "metadata": {},
   "outputs": [
    {
     "data": {
      "text/plain": [
       "<bound method NDFrame.head of                     Dates       Avg         0\n",
       "0     2018-11-07 17:15:00  0.407850  0.407850\n",
       "1     2018-11-07 17:16:00  0.401929  0.401929\n",
       "2     2018-11-07 17:17:00  0.399561  0.399561\n",
       "3     2018-11-07 17:18:00  0.398614  0.398614\n",
       "4     2018-11-07 17:19:00  0.398235  0.398235\n",
       "5     2018-11-07 17:20:00  0.398083  0.398083\n",
       "6     2018-11-07 17:21:00  0.398022  0.398022\n",
       "7     2018-11-07 17:22:00  0.397998  0.397998\n",
       "8     2018-11-07 17:23:00  0.397988  0.397988\n",
       "9     2018-11-07 17:24:00  0.397985  0.397985\n",
       "10    2018-11-07 17:25:00  0.397983  0.397983\n",
       "11    2018-11-07 17:26:00  0.397982  0.397982\n",
       "12    2018-11-07 17:27:00  0.397982  0.397982\n",
       "13    2018-11-07 17:28:00  0.397982  0.397982\n",
       "14    2018-11-07 17:29:00  0.397982  0.397982\n",
       "15    2018-11-07 17:30:00  0.397982  0.397982\n",
       "16    2018-11-07 17:31:00  0.397982  0.397982\n",
       "17    2018-11-07 17:32:00  0.397982  0.397982\n",
       "18    2018-11-07 17:33:00  0.397982  0.397982\n",
       "19    2018-11-07 17:34:00  0.397982  0.397982\n",
       "20    2018-11-07 17:35:00  0.397982  0.397982\n",
       "21    2018-11-07 17:36:00  0.397982  0.397982\n",
       "22    2018-11-07 17:37:00  0.397982  0.397982\n",
       "23    2018-11-07 17:38:00  0.397982  0.397982\n",
       "24    2018-11-07 17:39:00  0.397982  0.397982\n",
       "25    2018-11-07 17:40:00  0.397982  0.397982\n",
       "26    2018-11-07 17:41:00  0.397982  0.397982\n",
       "27    2018-11-07 17:42:00  0.397982  0.397982\n",
       "28    2018-11-07 17:43:00  0.397982  0.397982\n",
       "29    2018-11-07 17:44:00  0.397982  0.397982\n",
       "...                   ...       ...       ...\n",
       "24970 2018-12-19 17:16:00  0.397408  0.397408\n",
       "24971 2018-12-19 17:17:00  0.397389  0.397389\n",
       "24972 2018-12-19 17:18:00  0.397382  0.397382\n",
       "24973 2018-12-19 17:19:00  0.397417  0.397417\n",
       "24974 2018-12-19 17:20:00  0.397406  0.397406\n",
       "24975 2018-12-19 17:21:00  0.397435  0.397435\n",
       "24976 2018-12-19 17:22:00  0.397459  0.397459\n",
       "24977 2018-12-19 17:23:00  0.397501  0.397501\n",
       "24978 2018-12-19 17:24:00  0.397500  0.397500\n",
       "24979 2018-12-19 17:25:00  0.397485  0.397485\n",
       "24980 2018-12-19 17:26:00  0.397451  0.397451\n",
       "24981 2018-12-19 17:27:00  0.397431  0.397431\n",
       "24982 2018-12-19 17:28:00  0.397429  0.397429\n",
       "24983 2018-12-19 17:29:00  0.397458  0.397458\n",
       "24984 2018-12-19 17:30:00  0.397453  0.397453\n",
       "24985 2018-12-19 17:31:00  0.397453  0.397453\n",
       "24986 2018-12-19 17:32:00  0.397451  0.397451\n",
       "24987 2018-12-19 17:33:00  0.397446  0.397446\n",
       "24988 2018-12-19 17:34:00  0.397439  0.397439\n",
       "24989 2018-12-19 17:35:00  0.397440  0.397440\n",
       "24990 2018-12-19 17:36:00  0.397467  0.397467\n",
       "24991 2018-12-19 17:37:00  0.397494  0.397494\n",
       "24992 2018-12-19 17:38:00  0.397488  0.397488\n",
       "24993 2018-12-19 17:39:00  0.397451  0.397451\n",
       "24994 2018-12-19 17:40:00  0.397420  0.397420\n",
       "24995 2018-12-19 17:41:00  0.397383  0.397383\n",
       "24996 2018-12-19 17:42:00  0.397376  0.397376\n",
       "24997 2018-12-19 17:43:00  0.397419  0.397419\n",
       "24998 2018-12-19 17:44:00  0.397452  0.397452\n",
       "24999 2018-12-19 17:45:00  0.397449  0.397449\n",
       "\n",
       "[25000 rows x 3 columns]>"
      ]
     },
     "execution_count": 12,
     "metadata": {},
     "output_type": "execute_result"
    }
   ],
   "source": [
    "results_frame = pd.DataFrame(accepted_results)\n",
    "results_frame = results_frame.transpose() \n",
    "\n",
    "results_frame['Dates'] = date_ori\n",
    "results_frame['Avg'] = np.mean(results_frame, axis=1)\n",
    "cols = results_frame.columns.tolist()\n",
    "cols = cols[-2:] + cols[:-2] # reorder columns\n",
    "results_frame = results_frame[cols] \n",
    "\n",
    "results_frame.to_excel('./HCHI_predictions_25k.xlsx')\n",
    "results_frame.head"
   ]
  },
  {
   "cell_type": "code",
   "execution_count": 13,
   "metadata": {},
   "outputs": [
    {
     "name": "stdout",
     "output_type": "stream",
     "text": [
      "average train accuracy: 98.6535 \n",
      " average test accuracy: 99.6153\n"
     ]
    },
    {
     "data": {
      "image/png": "[encoded data removed]",
      "text/plain": [
       "<Figure size 1080x360 with 1 Axes>"
      ]
     },
     "metadata": {
      "needs_background": "light"
     },
     "output_type": "display_data"
    }
   ],
   "source": [
    "train_accuracies = [calculate_accuracy(df.loc[:DATASET_SIZE - TEST_SIZE - 1, 'HCHI'].values, r[:DATASET_SIZE - TEST_SIZE]) for r in accepted_results]\n",
    "test_accuracies = [calculate_accuracy(df.loc[DATASET_SIZE - TEST_SIZE:, 'HCHI'].values, r[DATASET_SIZE - TEST_SIZE:]) for r in accepted_results]\n",
    "avg_train_acc = np.mean(train_accuracies)\n",
    "avg_test_acc = np.mean(test_accuracies)\n",
    "accuracy_statement = 'average train accuracy: {0:.4f} \\n average test accuracy: {1:.4f}'.format(avg_train_acc, avg_test_acc)\n",
    "print(accuracy_statement)\n",
    "\n",
    "plt.figure(figsize = (15, 5))\n",
    "for no, r in enumerate(accepted_results):\n",
    "    plt.plot(r, label = 'forecast %d'%(no + 1))\n",
    "plt.plot(df['HCHI'], label = 'true trend', c = 'black')\n",
    "plt.legend()\n",
    "plt.title(accuracy_statement)\n",
    "\n",
    "x_range_future = np.arange(len(results[0]))\n",
    "tick_size = int(DATASET_SIZE / 20)\n",
    "plt.xticks(x_range_future[::tick_size], date_ori[::tick_size])\n",
    "plt.gcf().autofmt_xdate()\n",
    "plt.savefig('HCHI_predictions_25k.png')\n",
    "plt.show()"
   ]
  },
  {
   "cell_type": "code",
   "execution_count": null,
   "metadata": {},
   "outputs": [],
   "source": []
  }
 ],
 "metadata": {
  "kernelspec": {
   "display_name": "Python 3",
   "language": "python",
   "name": "python3"
  },
  "language_info": {
   "codemirror_mode": {
    "name": "ipython",
    "version": 3
   },
   "file_extension": ".py",
   "mimetype": "text/x-python",
   "name": "python",
   "nbconvert_exporter": "python",
   "pygments_lexer": "ipython3",
   "version": "3.5.6"
  }
 },
 "nbformat": 4,
 "nbformat_minor": 2
}
