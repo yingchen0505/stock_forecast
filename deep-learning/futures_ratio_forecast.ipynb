{
 "cells": [
  {
   "cell_type": "code",
   "execution_count": 2,
   "metadata": {},
   "outputs": [],
   "source": [
    "import sys\n",
    "import warnings\n",
    "\n",
    "if not sys.warnoptions:\n",
    "    warnings.simplefilter('ignore')"
   ]
  },
  {
   "cell_type": "code",
   "execution_count": 3,
   "metadata": {},
   "outputs": [],
   "source": [
    "import tensorflow as tf\n",
    "import numpy as np\n",
    "import matplotlib.pyplot as plt\n",
    "import seaborn as sns\n",
    "import pandas as pd\n",
    "from sklearn.preprocessing import MinMaxScaler\n",
    "from datetime import datetime\n",
    "from datetime import timedelta\n",
    "from tqdm import tqdm\n",
    "sns.set()\n",
    "# tf.compat.v1.random.set_random_seed(1234)"
   ]
  },
  {
   "cell_type": "code",
   "execution_count": 4,
   "metadata": {},
   "outputs": [
    {
     "data": {
      "text/html": [
       "<div>\n",
       "<style scoped>\n",
       "    .dataframe tbody tr th:only-of-type {\n",
       "        vertical-align: middle;\n",
       "    }\n",
       "\n",
       "    .dataframe tbody tr th {\n",
       "        vertical-align: top;\n",
       "    }\n",
       "\n",
       "    .dataframe thead th {\n",
       "        text-align: right;\n",
       "    }\n",
       "</style>\n",
       "<table border=\"1\" class=\"dataframe\">\n",
       "  <thead>\n",
       "    <tr style=\"text-align: right;\">\n",
       "      <th></th>\n",
       "      <th>dates</th>\n",
       "      <th>HC</th>\n",
       "      <th>HI</th>\n",
       "      <th>HCHI</th>\n",
       "    </tr>\n",
       "  </thead>\n",
       "  <tbody>\n",
       "    <tr>\n",
       "      <th>0</th>\n",
       "      <td>2018-11-07 17:15:00</td>\n",
       "      <td>10671</td>\n",
       "      <td>26164</td>\n",
       "      <td>0.407850</td>\n",
       "    </tr>\n",
       "    <tr>\n",
       "      <th>1</th>\n",
       "      <td>2018-11-07 17:16:00</td>\n",
       "      <td>10725</td>\n",
       "      <td>26263</td>\n",
       "      <td>0.408369</td>\n",
       "    </tr>\n",
       "    <tr>\n",
       "      <th>2</th>\n",
       "      <td>2018-11-07 17:17:00</td>\n",
       "      <td>10726</td>\n",
       "      <td>26262</td>\n",
       "      <td>0.408423</td>\n",
       "    </tr>\n",
       "    <tr>\n",
       "      <th>3</th>\n",
       "      <td>2018-11-07 17:18:00</td>\n",
       "      <td>10727</td>\n",
       "      <td>26269</td>\n",
       "      <td>0.408352</td>\n",
       "    </tr>\n",
       "    <tr>\n",
       "      <th>4</th>\n",
       "      <td>2018-11-07 17:19:00</td>\n",
       "      <td>10733</td>\n",
       "      <td>26274</td>\n",
       "      <td>0.408503</td>\n",
       "    </tr>\n",
       "  </tbody>\n",
       "</table>\n",
       "</div>"
      ],
      "text/plain": [
       "                dates     HC     HI      HCHI\n",
       "0 2018-11-07 17:15:00  10671  26164  0.407850\n",
       "1 2018-11-07 17:16:00  10725  26263  0.408369\n",
       "2 2018-11-07 17:17:00  10726  26262  0.408423\n",
       "3 2018-11-07 17:18:00  10727  26269  0.408352\n",
       "4 2018-11-07 17:19:00  10733  26274  0.408503"
      ]
     },
     "execution_count": 4,
     "metadata": {},
     "output_type": "execute_result"
    }
   ],
   "source": [
    "df = pd.read_excel('../dataset/hchi_ratio.xlsx')\n",
    "df.head()"
   ]
  },
  {
   "cell_type": "code",
   "execution_count": 5,
   "metadata": {},
   "outputs": [],
   "source": [
    "TEST_SIZE = 1440 # minutes\n",
    "DATASET_SIZE = df.shape[0] # rows"
   ]
  },
  {
   "cell_type": "code",
   "execution_count": 34,
   "metadata": {},
   "outputs": [
    {
     "data": {
      "text/plain": [
       "(256861, 5)"
      ]
     },
     "execution_count": 34,
     "metadata": {},
     "output_type": "execute_result"
    }
   ],
   "source": [
    "df.shape"
   ]
  },
  {
   "cell_type": "code",
   "execution_count": 35,
   "metadata": {},
   "outputs": [
    {
     "data": {
      "text/plain": [
       "255420"
      ]
     },
     "execution_count": 35,
     "metadata": {},
     "output_type": "execute_result"
    }
   ],
   "source": [
    "DATASET_SIZE - TEST_SIZE - 1"
   ]
  },
  {
   "cell_type": "code",
   "execution_count": 33,
   "metadata": {},
   "outputs": [],
   "source": [
    "df = df.reset_index()"
   ]
  },
  {
   "cell_type": "code",
   "execution_count": 38,
   "metadata": {},
   "outputs": [
    {
     "data": {
      "text/plain": [
       "(255421, 1)"
      ]
     },
     "execution_count": 38,
     "metadata": {},
     "output_type": "execute_result"
    }
   ],
   "source": [
    "minmax = MinMaxScaler().fit(df.loc[:DATASET_SIZE - TEST_SIZE - 1, 'HCHI'].astype('float32').values.reshape(-1, 1)) # select HCHI ratio column\n",
    "df_log = minmax.transform(df.loc[:DATASET_SIZE - TEST_SIZE - 1, 'HCHI'].astype('float32').values.reshape(-1, 1)) # select HCHI ratio column\n",
    "df_log = pd.DataFrame(df_log)\n",
    "df_log.shape"
   ]
  },
  {
   "cell_type": "markdown",
   "metadata": {},
   "source": [
    "## Forecast\n",
    "\n",
    "This example is using model 1.lstm, if you want to use another model, need to tweak a little bit, but I believe it is not that hard.\n",
    "\n",
    "I want to forecast 30 days ahead! So just change `test_size` to forecast `t + N` ahead.\n",
    "\n",
    "Also, I want to simulate 10 times, 10 variances of forecasted patterns. Just change `simulation_size`."
   ]
  },
  {
   "cell_type": "code",
   "execution_count": 39,
   "metadata": {},
   "outputs": [
    {
     "data": {
      "text/plain": [
       "((256861, 5), (255421, 1))"
      ]
     },
     "execution_count": 39,
     "metadata": {},
     "output_type": "execute_result"
    }
   ],
   "source": [
    "simulation_size = 1\n",
    "num_layers = 1\n",
    "size_layer = 1\n",
    "timestamp = 5\n",
    "epoch = 1\n",
    "dropout_rate = 0.8\n",
    "test_size = TEST_SIZE\n",
    "learning_rate = 0.01\n",
    "\n",
    "df_train = df_log\n",
    "df.shape, df_train.shape"
   ]
  },
  {
   "cell_type": "code",
   "execution_count": 40,
   "metadata": {},
   "outputs": [],
   "source": [
    "class Model:\n",
    "    def __init__(\n",
    "        self,\n",
    "        learning_rate,\n",
    "        num_layers,\n",
    "        size,\n",
    "        size_layer,\n",
    "        output_size,\n",
    "        forget_bias = 0.1,\n",
    "    ):\n",
    "        def lstm_cell(size_layer):\n",
    "            return tf.nn.rnn_cell.LSTMCell(size_layer, state_is_tuple = False)\n",
    "\n",
    "        rnn_cells = tf.nn.rnn_cell.MultiRNNCell(\n",
    "            [lstm_cell(size_layer) for _ in range(num_layers)],\n",
    "            state_is_tuple = False,\n",
    "        )\n",
    "        self.X = tf.placeholder(tf.float32, (None, None, size))\n",
    "        self.Y = tf.placeholder(tf.float32, (None, output_size))\n",
    "        drop = tf.contrib.rnn.DropoutWrapper(\n",
    "            rnn_cells, output_keep_prob = forget_bias\n",
    "        )\n",
    "        self.hidden_layer = tf.placeholder(\n",
    "            tf.float32, (None, num_layers * 2 * size_layer)\n",
    "        )\n",
    "        self.outputs, self.last_state = tf.nn.dynamic_rnn(\n",
    "            drop, self.X, initial_state = self.hidden_layer, dtype = tf.float32\n",
    "        )\n",
    "        self.logits = tf.layers.dense(self.outputs[-1], output_size)\n",
    "        self.cost = tf.reduce_mean(tf.square(self.Y - self.logits))\n",
    "        self.optimizer = tf.train.AdamOptimizer(learning_rate).minimize(\n",
    "            self.cost\n",
    "        )\n",
    "        \n",
    "def calculate_accuracy(real, predict):\n",
    "    real = np.array(real)\n",
    "    predict = np.array(predict)\n",
    "    percentage = 1 - np.sqrt(np.mean(np.square((real - predict) / real)))\n",
    "    return percentage * 100\n",
    "\n",
    "def anchor(signal, weight):\n",
    "    buffer = []\n",
    "    last = signal[0]\n",
    "    for i in signal:\n",
    "        smoothed_val = last * weight + (1 - weight) * i\n",
    "        buffer.append(smoothed_val)\n",
    "        last = smoothed_val\n",
    "    return buffer"
   ]
  },
  {
   "cell_type": "code",
   "execution_count": 41,
   "metadata": {},
   "outputs": [],
   "source": [
    "from tensorflow.python.framework import ops\n",
    "\n",
    "def forecast():\n",
    "    ops.reset_default_graph()\n",
    "#     tf.reset_default_graph()\n",
    "    modelnn = Model(\n",
    "        learning_rate, num_layers, df_log.shape[1], size_layer, df_log.shape[1], dropout_rate\n",
    "    )\n",
    "    sess = tf.InteractiveSession()\n",
    "    sess.run(tf.global_variables_initializer())\n",
    "    date_ori = pd.to_datetime(df.iloc[:, 0]).tolist()\n",
    "\n",
    "    pbar = tqdm(range(epoch), desc = 'train loop')\n",
    "    for i in pbar:\n",
    "        init_value = np.zeros((1, num_layers * 2 * size_layer))\n",
    "        total_loss, total_acc = [], []\n",
    "        for k in range(0, df_train.shape[0] - 1, timestamp):\n",
    "            index = min(k + timestamp, df_train.shape[0] - 1)\n",
    "            batch_x = np.expand_dims(\n",
    "                df_train.iloc[k : index, :].values, axis = 0\n",
    "            )\n",
    "            batch_y = df_train.iloc[k + 1 : index + 1, :].values\n",
    "            logits, last_state, _, loss = sess.run(\n",
    "                [modelnn.logits, modelnn.last_state, modelnn.optimizer, modelnn.cost],\n",
    "                feed_dict = {\n",
    "                    modelnn.X: batch_x,\n",
    "                    modelnn.Y: batch_y,\n",
    "                    modelnn.hidden_layer: init_value,\n",
    "                },\n",
    "            )        \n",
    "            init_value = last_state\n",
    "            total_loss.append(loss)\n",
    "            total_acc.append(calculate_accuracy(batch_y[:, 0], logits[:, 0]))\n",
    "        pbar.set_postfix(cost = np.mean(total_loss), acc = np.mean(total_acc))\n",
    "    \n",
    "    future_day = test_size\n",
    "\n",
    "    output_predict = np.zeros((df_train.shape[0] + future_day, df_train.shape[1]))\n",
    "    output_predict[0] = df_train.iloc[0]\n",
    "    upper_b = (df_train.shape[0] // timestamp) * timestamp\n",
    "    init_value = np.zeros((1, num_layers * 2 * size_layer))\n",
    "\n",
    "    for k in range(0, (df_train.shape[0] // timestamp) * timestamp, timestamp):\n",
    "        out_logits, last_state = sess.run(\n",
    "            [modelnn.logits, modelnn.last_state],\n",
    "            feed_dict = {\n",
    "                modelnn.X: np.expand_dims(\n",
    "                    df_train.iloc[k : k + timestamp], axis = 0\n",
    "                ),\n",
    "                modelnn.hidden_layer: init_value,\n",
    "            },\n",
    "        )\n",
    "        init_value = last_state\n",
    "        output_predict[k + 1 : k + timestamp + 1] = out_logits\n",
    "\n",
    "    if upper_b != df_train.shape[0]:\n",
    "        out_logits, last_state = sess.run(\n",
    "            [modelnn.logits, modelnn.last_state],\n",
    "            feed_dict = {\n",
    "                modelnn.X: np.expand_dims(df_train.iloc[upper_b:], axis = 0),\n",
    "                modelnn.hidden_layer: init_value,\n",
    "            },\n",
    "        )\n",
    "        output_predict[upper_b + 1 : df_train.shape[0] + 1] = out_logits\n",
    "        future_day -= 1\n",
    "        date_ori.append(date_ori[-1] + timedelta(days = 1))\n",
    "\n",
    "    init_value = last_state\n",
    "    \n",
    "    for i in range(future_day):\n",
    "        o = output_predict[-future_day - timestamp + i:-future_day + i]\n",
    "        out_logits, last_state = sess.run(\n",
    "            [modelnn.logits, modelnn.last_state],\n",
    "            feed_dict = {\n",
    "                modelnn.X: np.expand_dims(o, axis = 0),\n",
    "                modelnn.hidden_layer: init_value,\n",
    "            },\n",
    "        )\n",
    "        init_value = last_state\n",
    "        output_predict[-future_day + i] = out_logits[-1]\n",
    "        date_ori.append(date_ori[-1] + timedelta(days = 1))\n",
    "    \n",
    "    output_predict = minmax.inverse_transform(output_predict)\n",
    "    deep_future = anchor(output_predict[:, 0], 0.4)\n",
    "    \n",
    "    return deep_future"
   ]
  },
  {
   "cell_type": "code",
   "execution_count": 42,
   "metadata": {
    "scrolled": true
   },
   "outputs": [
    {
     "name": "stdout",
     "output_type": "stream",
     "text": [
      "simulation 1\n"
     ]
    }
   ],
   "source": [
    "results = []\n",
    "for i in range(simulation_size):\n",
    "    print('simulation %d'%(i + 1))\n",
    "#     results.append(forecast())\n",
    "    results.append(df.loc[:, 'HCHI'])"
   ]
  },
  {
   "cell_type": "code",
   "execution_count": 44,
   "metadata": {},
   "outputs": [
    {
     "data": {
      "text/plain": [
       "256856   2020-01-29 11:55:00\n",
       "256857   2020-01-29 11:56:00\n",
       "256858   2020-01-29 11:57:00\n",
       "256859   2020-01-29 11:58:00\n",
       "256860   2020-01-29 11:59:00\n",
       "Name: dates, dtype: datetime64[ns]"
      ]
     },
     "execution_count": 44,
     "metadata": {},
     "output_type": "execute_result"
    }
   ],
   "source": [
    "date_ori = df.loc[:, 'dates']\n",
    "date_ori[-5:]"
   ]
  },
  {
   "cell_type": "markdown",
   "metadata": {},
   "source": [
    "## Sanity check\n",
    "\n",
    "Some of our models might not have stable gradient, so forecasted trend might really hangwired. You can use many methods to filter out unstable models.\n",
    "\n",
    "This method is very simple,\n",
    "1. If one of element in forecasted trend lower than min(original trend).\n",
    "2. If one of element in forecasted trend bigger than max(original trend) * 2.\n",
    "\n",
    "If both are true, reject that trend."
   ]
  },
  {
   "cell_type": "code",
   "execution_count": 45,
   "metadata": {},
   "outputs": [
    {
     "data": {
      "text/plain": [
       "1"
      ]
     },
     "execution_count": 45,
     "metadata": {},
     "output_type": "execute_result"
    }
   ],
   "source": [
    "accepted_results = []\n",
    "for r in results:\n",
    "    if (np.array(r[-test_size:]) < np.min(df['HCHI'])).sum() == 0 and \\\n",
    "    (np.array(r[-test_size:]) > np.max(df['HCHI']) * 2).sum() == 0:\n",
    "        accepted_results.append(r)\n",
    "len(accepted_results)"
   ]
  },
  {
   "cell_type": "code",
   "execution_count": 46,
   "metadata": {},
   "outputs": [
    {
     "data": {
      "text/plain": [
       "<bound method NDFrame.head of                      Dates       Avg      HCHI\n",
       "0      2018-11-07 17:15:00  0.407850  0.407850\n",
       "1      2018-11-07 17:16:00  0.408369  0.408369\n",
       "2      2018-11-07 17:17:00  0.408423  0.408423\n",
       "3      2018-11-07 17:18:00  0.408352  0.408352\n",
       "4      2018-11-07 17:19:00  0.408503  0.408503\n",
       "5      2018-11-07 17:20:00  0.408339  0.408339\n",
       "6      2018-11-07 17:21:00  0.408337  0.408337\n",
       "7      2018-11-07 17:22:00  0.408212  0.408212\n",
       "8      2018-11-07 17:23:00  0.408211  0.408211\n",
       "9      2018-11-07 17:24:00  0.408271  0.408271\n",
       "10     2018-11-07 17:25:00  0.408328  0.408328\n",
       "11     2018-11-07 17:26:00  0.408409  0.408409\n",
       "12     2018-11-07 17:27:00  0.408323  0.408323\n",
       "13     2018-11-07 17:28:00  0.408369  0.408369\n",
       "14     2018-11-07 17:29:00  0.408307  0.408307\n",
       "15     2018-11-07 17:30:00  0.408404  0.408404\n",
       "16     2018-11-07 17:31:00  0.408370  0.408370\n",
       "17     2018-11-07 17:32:00  0.408398  0.408398\n",
       "18     2018-11-07 17:33:00  0.408447  0.408447\n",
       "19     2018-11-07 17:34:00  0.408395  0.408395\n",
       "20     2018-11-07 17:35:00  0.408565  0.408565\n",
       "21     2018-11-07 17:36:00  0.408565  0.408565\n",
       "22     2018-11-07 17:37:00  0.408675  0.408675\n",
       "23     2018-11-07 17:38:00  0.408751  0.408751\n",
       "24     2018-11-07 17:39:00  0.408578  0.408578\n",
       "25     2018-11-07 17:40:00  0.408384  0.408384\n",
       "26     2018-11-07 17:41:00  0.408400  0.408400\n",
       "27     2018-11-07 17:42:00  0.408400  0.408400\n",
       "28     2018-11-07 17:43:00  0.408338  0.408338\n",
       "29     2018-11-07 17:44:00  0.408412  0.408412\n",
       "...                    ...       ...       ...\n",
       "256831 2020-01-29 11:30:00  0.390249  0.390249\n",
       "256832 2020-01-29 11:31:00  0.390190  0.390190\n",
       "256833 2020-01-29 11:32:00  0.390260  0.390260\n",
       "256834 2020-01-29 11:33:00  0.390203  0.390203\n",
       "256835 2020-01-29 11:34:00  0.390168  0.390168\n",
       "256836 2020-01-29 11:35:00  0.390136  0.390136\n",
       "256837 2020-01-29 11:36:00  0.390223  0.390223\n",
       "256838 2020-01-29 11:37:00  0.390193  0.390193\n",
       "256839 2020-01-29 11:38:00  0.390187  0.390187\n",
       "256840 2020-01-29 11:39:00  0.390185  0.390185\n",
       "256841 2020-01-29 11:40:00  0.390256  0.390256\n",
       "256842 2020-01-29 11:41:00  0.390301  0.390301\n",
       "256843 2020-01-29 11:42:00  0.390211  0.390211\n",
       "256844 2020-01-29 11:43:00  0.390164  0.390164\n",
       "256845 2020-01-29 11:44:00  0.390136  0.390136\n",
       "256846 2020-01-29 11:45:00  0.390129  0.390129\n",
       "256847 2020-01-29 11:46:00  0.390239  0.390239\n",
       "256848 2020-01-29 11:47:00  0.390292  0.390292\n",
       "256849 2020-01-29 11:48:00  0.390329  0.390329\n",
       "256850 2020-01-29 11:49:00  0.390313  0.390313\n",
       "256851 2020-01-29 11:50:00  0.390306  0.390306\n",
       "256852 2020-01-29 11:51:00  0.390286  0.390286\n",
       "256853 2020-01-29 11:52:00  0.390286  0.390286\n",
       "256854 2020-01-29 11:53:00  0.390284  0.390284\n",
       "256855 2020-01-29 11:54:00  0.390341  0.390341\n",
       "256856 2020-01-29 11:55:00  0.390301  0.390301\n",
       "256857 2020-01-29 11:56:00  0.390346  0.390346\n",
       "256858 2020-01-29 11:57:00  0.390388  0.390388\n",
       "256859 2020-01-29 11:58:00  0.390349  0.390349\n",
       "256860 2020-01-29 11:59:00  0.390471  0.390471\n",
       "\n",
       "[256861 rows x 3 columns]>"
      ]
     },
     "execution_count": 46,
     "metadata": {},
     "output_type": "execute_result"
    }
   ],
   "source": [
    "results_frame = pd.DataFrame(accepted_results)\n",
    "results_frame = results_frame.transpose() \n",
    "\n",
    "results_frame['Dates'] = date_ori\n",
    "results_frame['Avg'] = np.mean(results_frame, axis=1)\n",
    "cols = results_frame.columns.tolist()\n",
    "cols = cols[-2:] + cols[:-2] # reorder columns\n",
    "results_frame = results_frame[cols] \n",
    "\n",
    "results_frame.to_excel('./HCHI_predictions.xlsx')\n",
    "results_frame.head"
   ]
  },
  {
   "cell_type": "code",
   "execution_count": 47,
   "metadata": {},
   "outputs": [
    {
     "name": "stdout",
     "output_type": "stream",
     "text": [
      "average train accuracy: 100.0000 \n",
      " average test accuracy: 100.0000\n"
     ]
    },
    {
     "data": {
      "image/png": "[encoded data removed]",
      "text/plain": [
       "<Figure size 1080x360 with 1 Axes>"
      ]
     },
     "metadata": {
      "needs_background": "light"
     },
     "output_type": "display_data"
    }
   ],
   "source": [
    "train_accuracies = [calculate_accuracy(df.loc[:DATASET_SIZE - TEST_SIZE - 1, 'HCHI'].values, r[:DATASET_SIZE - TEST_SIZE]) for r in accepted_results]\n",
    "test_accuracies = [calculate_accuracy(df.loc[DATASET_SIZE - TEST_SIZE:, 'HCHI'].values, r[DATASET_SIZE - TEST_SIZE:]) for r in accepted_results]\n",
    "avg_train_acc = np.mean(train_accuracies)\n",
    "avg_test_acc = np.mean(test_accuracies)\n",
    "accuracy_statement = 'average train accuracy: {0:.4f} \\n average test accuracy: {1:.4f}'.format(avg_train_acc, avg_test_acc)\n",
    "print(accuracy_statement)\n",
    "\n",
    "plt.figure(figsize = (15, 5))\n",
    "for no, r in enumerate(accepted_results):\n",
    "    plt.plot(r, label = 'forecast %d'%(no + 1))\n",
    "plt.plot(df['HCHI'], label = 'true trend', c = 'black')\n",
    "plt.legend()\n",
    "plt.title(accuracy_statement)\n",
    "\n",
    "x_range_future = np.arange(len(results[0]))\n",
    "tick_size = int(DATASET_SIZE / 20)\n",
    "plt.xticks(x_range_future[::tick_size], date_ori[::tick_size])\n",
    "plt.gcf().autofmt_xdate()\n",
    "plt.savefig('plot.png')\n",
    "plt.show()"
   ]
  },
  {
   "cell_type": "code",
   "execution_count": null,
   "metadata": {},
   "outputs": [],
   "source": []
  }
 ],
 "metadata": {
  "kernelspec": {
   "display_name": "Python 3",
   "language": "python",
   "name": "python3"
  },
  "language_info": {
   "codemirror_mode": {
    "name": "ipython",
    "version": 3
   },
   "file_extension": ".py",
   "mimetype": "text/x-python",
   "name": "python",
   "nbconvert_exporter": "python",
   "pygments_lexer": "ipython3",
   "version": "3.5.6"
  }
 },
 "nbformat": 4,
 "nbformat_minor": 2
}
