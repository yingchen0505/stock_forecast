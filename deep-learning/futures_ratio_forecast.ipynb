{
 "cells": [
  {
   "cell_type": "code",
   "execution_count": 1,
   "metadata": {},
   "outputs": [],
   "source": [
    "import sys\n",
    "import warnings\n",
    "\n",
    "if not sys.warnoptions:\n",
    "    warnings.simplefilter('ignore')"
   ]
  },
  {
   "cell_type": "code",
   "execution_count": 2,
   "metadata": {},
   "outputs": [],
   "source": [
    "import tensorflow as tf\n",
    "import numpy as np\n",
    "import matplotlib.pyplot as plt\n",
    "import seaborn as sns\n",
    "import pandas as pd\n",
    "from sklearn.preprocessing import MinMaxScaler\n",
    "from datetime import datetime\n",
    "from datetime import timedelta\n",
    "from tqdm import tqdm\n",
    "sns.set()\n",
    "# tf.compat.v1.random.set_random_seed(1234)"
   ]
  },
  {
   "cell_type": "code",
   "execution_count": 4,
   "metadata": {},
   "outputs": [
    {
     "data": {
      "text/html": [
       "<div>\n",
       "<style scoped>\n",
       "    .dataframe tbody tr th:only-of-type {\n",
       "        vertical-align: middle;\n",
       "    }\n",
       "\n",
       "    .dataframe tbody tr th {\n",
       "        vertical-align: top;\n",
       "    }\n",
       "\n",
       "    .dataframe thead th {\n",
       "        text-align: right;\n",
       "    }\n",
       "</style>\n",
       "<table border=\"1\" class=\"dataframe\">\n",
       "  <thead>\n",
       "    <tr style=\"text-align: right;\">\n",
       "      <th></th>\n",
       "      <th>dates</th>\n",
       "      <th>HC</th>\n",
       "      <th>HI</th>\n",
       "      <th>HCHI</th>\n",
       "    </tr>\n",
       "  </thead>\n",
       "  <tbody>\n",
       "    <tr>\n",
       "      <th>0</th>\n",
       "      <td>2018-11-07 17:15:00</td>\n",
       "      <td>10671</td>\n",
       "      <td>26164</td>\n",
       "      <td>0.407850</td>\n",
       "    </tr>\n",
       "    <tr>\n",
       "      <th>1</th>\n",
       "      <td>2018-11-07 17:16:00</td>\n",
       "      <td>10725</td>\n",
       "      <td>26263</td>\n",
       "      <td>0.408369</td>\n",
       "    </tr>\n",
       "    <tr>\n",
       "      <th>2</th>\n",
       "      <td>2018-11-07 17:17:00</td>\n",
       "      <td>10726</td>\n",
       "      <td>26262</td>\n",
       "      <td>0.408423</td>\n",
       "    </tr>\n",
       "    <tr>\n",
       "      <th>3</th>\n",
       "      <td>2018-11-07 17:18:00</td>\n",
       "      <td>10727</td>\n",
       "      <td>26269</td>\n",
       "      <td>0.408352</td>\n",
       "    </tr>\n",
       "    <tr>\n",
       "      <th>4</th>\n",
       "      <td>2018-11-07 17:19:00</td>\n",
       "      <td>10733</td>\n",
       "      <td>26274</td>\n",
       "      <td>0.408503</td>\n",
       "    </tr>\n",
       "  </tbody>\n",
       "</table>\n",
       "</div>"
      ],
      "text/plain": [
       "                dates     HC     HI      HCHI\n",
       "0 2018-11-07 17:15:00  10671  26164  0.407850\n",
       "1 2018-11-07 17:16:00  10725  26263  0.408369\n",
       "2 2018-11-07 17:17:00  10726  26262  0.408423\n",
       "3 2018-11-07 17:18:00  10727  26269  0.408352\n",
       "4 2018-11-07 17:19:00  10733  26274  0.408503"
      ]
     },
     "execution_count": 4,
     "metadata": {},
     "output_type": "execute_result"
    }
   ],
   "source": [
    "df = pd.read_excel('../dataset/hchi_ratio_simplified.xlsx')\n",
    "df.head()"
   ]
  },
  {
   "cell_type": "code",
   "execution_count": 30,
   "metadata": {},
   "outputs": [],
   "source": [
    "TEST_SIZE = 60 # minutes\n",
    "DATASET_SIZE = df.shape[0] # rows"
   ]
  },
  {
   "cell_type": "code",
   "execution_count": 45,
   "metadata": {},
   "outputs": [
    {
     "data": {
      "text/plain": [
       "(141, 1)"
      ]
     },
     "execution_count": 45,
     "metadata": {},
     "output_type": "execute_result"
    }
   ],
   "source": [
    "minmax = MinMaxScaler().fit(df.loc[:DATASET_SIZE - TEST_SIZE - 1, 'HCHI'].astype('float32').values.reshape(-1, 1)) # select HCHI ratio column\n",
    "df_log = minmax.transform(df.loc[:DATASET_SIZE - TEST_SIZE - 1, 'HCHI'].astype('float32').values.reshape(-1, 1)) # select HCHI ratio column\n",
    "df_log = pd.DataFrame(df_log)\n",
    "df_log.head()\n",
    "df_log.shape\n",
    "# df.shape"
   ]
  },
  {
   "cell_type": "markdown",
   "metadata": {},
   "source": [
    "## Forecast\n",
    "\n",
    "This example is using model 1.lstm, if you want to use another model, need to tweak a little bit, but I believe it is not that hard.\n",
    "\n",
    "I want to forecast 30 days ahead! So just change `test_size` to forecast `t + N` ahead.\n",
    "\n",
    "Also, I want to simulate 10 times, 10 variances of forecasted patterns. Just change `simulation_size`."
   ]
  },
  {
   "cell_type": "code",
   "execution_count": 52,
   "metadata": {},
   "outputs": [
    {
     "data": {
      "text/plain": [
       "((201, 4), (141, 1))"
      ]
     },
     "execution_count": 52,
     "metadata": {},
     "output_type": "execute_result"
    }
   ],
   "source": [
    "simulation_size = 2\n",
    "num_layers = 1\n",
    "size_layer = 128\n",
    "timestamp = 5\n",
    "epoch = 300\n",
    "dropout_rate = 0.8\n",
    "test_size = TEST_SIZE\n",
    "learning_rate = 0.01\n",
    "\n",
    "df_train = df_log\n",
    "df.shape, df_train.shape"
   ]
  },
  {
   "cell_type": "code",
   "execution_count": 53,
   "metadata": {},
   "outputs": [],
   "source": [
    "class Model:\n",
    "    def __init__(\n",
    "        self,\n",
    "        learning_rate,\n",
    "        num_layers,\n",
    "        size,\n",
    "        size_layer,\n",
    "        output_size,\n",
    "        forget_bias = 0.1,\n",
    "    ):\n",
    "        def lstm_cell(size_layer):\n",
    "            return tf.nn.rnn_cell.LSTMCell(size_layer, state_is_tuple = False)\n",
    "\n",
    "        rnn_cells = tf.nn.rnn_cell.MultiRNNCell(\n",
    "            [lstm_cell(size_layer) for _ in range(num_layers)],\n",
    "            state_is_tuple = False,\n",
    "        )\n",
    "        self.X = tf.placeholder(tf.float32, (None, None, size))\n",
    "        self.Y = tf.placeholder(tf.float32, (None, output_size))\n",
    "        drop = tf.contrib.rnn.DropoutWrapper(\n",
    "            rnn_cells, output_keep_prob = forget_bias\n",
    "        )\n",
    "        self.hidden_layer = tf.placeholder(\n",
    "            tf.float32, (None, num_layers * 2 * size_layer)\n",
    "        )\n",
    "        self.outputs, self.last_state = tf.nn.dynamic_rnn(\n",
    "            drop, self.X, initial_state = self.hidden_layer, dtype = tf.float32\n",
    "        )\n",
    "        self.logits = tf.layers.dense(self.outputs[-1], output_size)\n",
    "        self.cost = tf.reduce_mean(tf.square(self.Y - self.logits))\n",
    "        self.optimizer = tf.train.AdamOptimizer(learning_rate).minimize(\n",
    "            self.cost\n",
    "        )\n",
    "        \n",
    "def calculate_accuracy(real, predict):\n",
    "    real = np.array(real) + 1\n",
    "    predict = np.array(predict) + 1\n",
    "    percentage = 1 - np.sqrt(np.mean(np.square((real - predict) / real)))\n",
    "    return percentage * 100\n",
    "\n",
    "def anchor(signal, weight):\n",
    "    buffer = []\n",
    "    last = signal[0]\n",
    "    for i in signal:\n",
    "        smoothed_val = last * weight + (1 - weight) * i\n",
    "        buffer.append(smoothed_val)\n",
    "        last = smoothed_val\n",
    "    return buffer"
   ]
  },
  {
   "cell_type": "code",
   "execution_count": 54,
   "metadata": {},
   "outputs": [],
   "source": [
    "from tensorflow.python.framework import ops\n",
    "\n",
    "def forecast():\n",
    "    ops.reset_default_graph()\n",
    "#     tf.reset_default_graph()\n",
    "    modelnn = Model(\n",
    "        learning_rate, num_layers, df_log.shape[1], size_layer, df_log.shape[1], dropout_rate\n",
    "    )\n",
    "    sess = tf.InteractiveSession()\n",
    "    sess.run(tf.global_variables_initializer())\n",
    "    date_ori = pd.to_datetime(df.iloc[:, 0]).tolist()\n",
    "\n",
    "    pbar = tqdm(range(epoch), desc = 'train loop')\n",
    "    for i in pbar:\n",
    "        init_value = np.zeros((1, num_layers * 2 * size_layer))\n",
    "        total_loss, total_acc = [], []\n",
    "        for k in range(0, df_train.shape[0] - 1, timestamp):\n",
    "            index = min(k + timestamp, df_train.shape[0] - 1)\n",
    "            batch_x = np.expand_dims(\n",
    "                df_train.iloc[k : index, :].values, axis = 0\n",
    "            )\n",
    "            batch_y = df_train.iloc[k + 1 : index + 1, :].values\n",
    "            logits, last_state, _, loss = sess.run(\n",
    "                [modelnn.logits, modelnn.last_state, modelnn.optimizer, modelnn.cost],\n",
    "                feed_dict = {\n",
    "                    modelnn.X: batch_x,\n",
    "                    modelnn.Y: batch_y,\n",
    "                    modelnn.hidden_layer: init_value,\n",
    "                },\n",
    "            )        \n",
    "            init_value = last_state\n",
    "            total_loss.append(loss)\n",
    "            total_acc.append(calculate_accuracy(batch_y[:, 0], logits[:, 0]))\n",
    "        pbar.set_postfix(cost = np.mean(total_loss), acc = np.mean(total_acc))\n",
    "    \n",
    "    future_day = test_size\n",
    "\n",
    "    output_predict = np.zeros((df_train.shape[0] + future_day, df_train.shape[1]))\n",
    "    output_predict[0] = df_train.iloc[0]\n",
    "    upper_b = (df_train.shape[0] // timestamp) * timestamp\n",
    "    init_value = np.zeros((1, num_layers * 2 * size_layer))\n",
    "\n",
    "    for k in range(0, (df_train.shape[0] // timestamp) * timestamp, timestamp):\n",
    "        out_logits, last_state = sess.run(\n",
    "            [modelnn.logits, modelnn.last_state],\n",
    "            feed_dict = {\n",
    "                modelnn.X: np.expand_dims(\n",
    "                    df_train.iloc[k : k + timestamp], axis = 0\n",
    "                ),\n",
    "                modelnn.hidden_layer: init_value,\n",
    "            },\n",
    "        )\n",
    "        init_value = last_state\n",
    "        output_predict[k + 1 : k + timestamp + 1] = out_logits\n",
    "\n",
    "    if upper_b != df_train.shape[0]:\n",
    "        out_logits, last_state = sess.run(\n",
    "            [modelnn.logits, modelnn.last_state],\n",
    "            feed_dict = {\n",
    "                modelnn.X: np.expand_dims(df_train.iloc[upper_b:], axis = 0),\n",
    "                modelnn.hidden_layer: init_value,\n",
    "            },\n",
    "        )\n",
    "        output_predict[upper_b + 1 : df_train.shape[0] + 1] = out_logits\n",
    "        future_day -= 1\n",
    "        date_ori.append(date_ori[-1] + timedelta(days = 1))\n",
    "\n",
    "    init_value = last_state\n",
    "    \n",
    "    for i in range(future_day):\n",
    "        o = output_predict[-future_day - timestamp + i:-future_day + i]\n",
    "        out_logits, last_state = sess.run(\n",
    "            [modelnn.logits, modelnn.last_state],\n",
    "            feed_dict = {\n",
    "                modelnn.X: np.expand_dims(o, axis = 0),\n",
    "                modelnn.hidden_layer: init_value,\n",
    "            },\n",
    "        )\n",
    "        init_value = last_state\n",
    "        output_predict[-future_day + i] = out_logits[-1]\n",
    "        date_ori.append(date_ori[-1] + timedelta(days = 1))\n",
    "    \n",
    "    output_predict = minmax.inverse_transform(output_predict)\n",
    "    deep_future = anchor(output_predict[:, 0], 0.4)\n",
    "    \n",
    "    return deep_future"
   ]
  },
  {
   "cell_type": "code",
   "execution_count": 55,
   "metadata": {
    "scrolled": true
   },
   "outputs": [
    {
     "name": "stdout",
     "output_type": "stream",
     "text": [
      "simulation 1\n",
      "WARNING:tensorflow:<tensorflow.python.ops.rnn_cell_impl.LSTMCell object at 0x000001F2554E7550>: Using a concatenated state is slower and will soon be deprecated.  Use state_is_tuple=True.\n"
     ]
    },
    {
     "name": "stderr",
     "output_type": "stream",
     "text": [
      "C:\\Users\\Yingchen\\Anaconda3\\envs\\tf_1.0\\lib\\site-packages\\tensorflow\\python\\client\\session.py:1714: UserWarning: An interactive session is already active. This can cause out-of-memory errors in some cases. You must explicitly call `InteractiveSession.close()` to release resources held by the other session(s).\n",
      "  warnings.warn('An interactive session is already active. This can '\n",
      "train loop: 100%|███████████████| 300/300 [00:38<00:00,  7.74it/s, acc=95.8, cost=0.00413]\n"
     ]
    },
    {
     "name": "stdout",
     "output_type": "stream",
     "text": [
      "simulation 2\n",
      "WARNING:tensorflow:<tensorflow.python.ops.rnn_cell_impl.LSTMCell object at 0x000001F2554E7518>: Using a concatenated state is slower and will soon be deprecated.  Use state_is_tuple=True.\n"
     ]
    },
    {
     "name": "stderr",
     "output_type": "stream",
     "text": [
      "C:\\Users\\Yingchen\\Anaconda3\\envs\\tf_1.0\\lib\\site-packages\\tensorflow\\python\\client\\session.py:1714: UserWarning: An interactive session is already active. This can cause out-of-memory errors in some cases. You must explicitly call `InteractiveSession.close()` to release resources held by the other session(s).\n",
      "  warnings.warn('An interactive session is already active. This can '\n",
      "train loop: 100%|███████████████| 300/300 [00:47<00:00,  6.32it/s, acc=95.3, cost=0.00555]\n"
     ]
    }
   ],
   "source": [
    "results = []\n",
    "for i in range(simulation_size):\n",
    "    print('simulation %d'%(i + 1))\n",
    "    results.append(forecast())"
   ]
  },
  {
   "cell_type": "code",
   "execution_count": 71,
   "metadata": {},
   "outputs": [
    {
     "data": {
      "text/plain": [
       "196   2018-11-07 20:32:00\n",
       "197   2018-11-07 20:33:00\n",
       "198   2018-11-07 20:34:00\n",
       "199   2018-11-07 20:35:00\n",
       "200   2018-11-07 20:36:00\n",
       "Name: dates, dtype: datetime64[ns]"
      ]
     },
     "execution_count": 71,
     "metadata": {},
     "output_type": "execute_result"
    }
   ],
   "source": [
    "date_ori = df.iloc[:, 0]\n",
    "# date_ori = pd.to_datetime(df.iloc[:, 0]).tolist()\n",
    "# # for i in range(test_size):\n",
    "# #     date_ori.append(date_ori[-1] + timedelta(days = 1))\n",
    "# date_ori = pd.Series(date_ori).dt.strftime(date_format = '%m-%d-%Y').tolist()\n",
    "date_ori[-5:]"
   ]
  },
  {
   "cell_type": "markdown",
   "metadata": {},
   "source": [
    "## Sanity check\n",
    "\n",
    "Some of our models might not have stable gradient, so forecasted trend might really hangwired. You can use many methods to filter out unstable models.\n",
    "\n",
    "This method is very simple,\n",
    "1. If one of element in forecasted trend lower than min(original trend).\n",
    "2. If one of element in forecasted trend bigger than max(original trend) * 2.\n",
    "\n",
    "If both are true, reject that trend."
   ]
  },
  {
   "cell_type": "code",
   "execution_count": 72,
   "metadata": {},
   "outputs": [
    {
     "data": {
      "text/plain": [
       "2"
      ]
     },
     "execution_count": 72,
     "metadata": {},
     "output_type": "execute_result"
    }
   ],
   "source": [
    "accepted_results = []\n",
    "for r in results:\n",
    "    if (np.array(r[-test_size:]) < np.min(df['HCHI'])).sum() == 0 and \\\n",
    "    (np.array(r[-test_size:]) > np.max(df['HCHI']) * 2).sum() == 0:\n",
    "        accepted_results.append(r)\n",
    "len(accepted_results)"
   ]
  },
  {
   "cell_type": "code",
   "execution_count": 77,
   "metadata": {},
   "outputs": [
    {
     "data": {
      "text/plain": [
       "<bound method NDFrame.head of                   Dates         0         1\n",
       "0   2018-11-07 17:15:00  0.407850  0.407850\n",
       "1   2018-11-07 17:16:00  0.408163  0.408134\n",
       "2   2018-11-07 17:17:00  0.408320  0.408313\n",
       "3   2018-11-07 17:18:00  0.408370  0.408332\n",
       "4   2018-11-07 17:19:00  0.408490  0.408468\n",
       "5   2018-11-07 17:20:00  0.408415  0.408391\n",
       "6   2018-11-07 17:21:00  0.408385  0.408365\n",
       "7   2018-11-07 17:22:00  0.408313  0.408318\n",
       "8   2018-11-07 17:23:00  0.408264  0.408274\n",
       "9   2018-11-07 17:24:00  0.408309  0.408243\n",
       "10  2018-11-07 17:25:00  0.408294  0.408258\n",
       "11  2018-11-07 17:26:00  0.408310  0.408271\n",
       "12  2018-11-07 17:27:00  0.408323  0.408322\n",
       "13  2018-11-07 17:28:00  0.408342  0.408332\n",
       "14  2018-11-07 17:29:00  0.408305  0.408308\n",
       "15  2018-11-07 17:30:00  0.408315  0.408283\n",
       "16  2018-11-07 17:31:00  0.408371  0.408311\n",
       "17  2018-11-07 17:32:00  0.408349  0.408316\n",
       "18  2018-11-07 17:33:00  0.408431  0.408331\n",
       "19  2018-11-07 17:34:00  0.408406  0.408374\n",
       "20  2018-11-07 17:35:00  0.408512  0.408413\n",
       "21  2018-11-07 17:36:00  0.408488  0.408448\n",
       "22  2018-11-07 17:37:00  0.408546  0.408629\n",
       "23  2018-11-07 17:38:00  0.408635  0.408718\n",
       "24  2018-11-07 17:39:00  0.408556  0.408657\n",
       "25  2018-11-07 17:40:00  0.408475  0.408480\n",
       "26  2018-11-07 17:41:00  0.408386  0.408406\n",
       "27  2018-11-07 17:42:00  0.408366  0.408360\n",
       "28  2018-11-07 17:43:00  0.408341  0.408371\n",
       "29  2018-11-07 17:44:00  0.408382  0.408348\n",
       "..                  ...       ...       ...\n",
       "171 2018-11-07 20:06:00  0.408149  0.408185\n",
       "172 2018-11-07 20:07:00  0.408150  0.408190\n",
       "173 2018-11-07 20:08:00  0.408148  0.408188\n",
       "174 2018-11-07 20:09:00  0.408138  0.408183\n",
       "175 2018-11-07 20:10:00  0.408137  0.408200\n",
       "176 2018-11-07 20:11:00  0.408145  0.408200\n",
       "177 2018-11-07 20:12:00  0.408146  0.408198\n",
       "178 2018-11-07 20:13:00  0.408148  0.408185\n",
       "179 2018-11-07 20:14:00  0.408151  0.408173\n",
       "180 2018-11-07 20:15:00  0.408145  0.408177\n",
       "181 2018-11-07 20:16:00  0.408149  0.408175\n",
       "182 2018-11-07 20:17:00  0.408145  0.408176\n",
       "183 2018-11-07 20:18:00  0.408146  0.408181\n",
       "184 2018-11-07 20:19:00  0.408143  0.408199\n",
       "185 2018-11-07 20:20:00  0.408148  0.408213\n",
       "186 2018-11-07 20:21:00  0.408159  0.408212\n",
       "187 2018-11-07 20:22:00  0.408161  0.408196\n",
       "188 2018-11-07 20:23:00  0.408153  0.408198\n",
       "189 2018-11-07 20:24:00  0.408144  0.408193\n",
       "190 2018-11-07 20:25:00  0.408138  0.408195\n",
       "191 2018-11-07 20:26:00  0.408148  0.408203\n",
       "192 2018-11-07 20:27:00  0.408160  0.408210\n",
       "193 2018-11-07 20:29:00  0.408161  0.408221\n",
       "194 2018-11-07 20:30:00  0.408164  0.408209\n",
       "195 2018-11-07 20:31:00  0.408155  0.408202\n",
       "196 2018-11-07 20:32:00  0.408148  0.408195\n",
       "197 2018-11-07 20:33:00  0.408150  0.408190\n",
       "198 2018-11-07 20:34:00  0.408151  0.408196\n",
       "199 2018-11-07 20:35:00  0.408148  0.408198\n",
       "200 2018-11-07 20:36:00  0.408158  0.408205\n",
       "\n",
       "[201 rows x 3 columns]>"
      ]
     },
     "execution_count": 77,
     "metadata": {},
     "output_type": "execute_result"
    }
   ],
   "source": [
    "results_frame = pd.DataFrame(accepted_results)\n",
    "results_frame = results_frame.transpose() \n",
    "\n",
    "results_frame['Dates'] = date_ori\n",
    "cols = results_frame.columns.tolist()\n",
    "cols = cols[-1:] + cols[:-1] # move 'Dates' column in front\n",
    "results_frame = results_frame[cols] \n",
    "\n",
    "results_frame.to_excel('./HCHI_predictions.xlsx')\n",
    "results_frame.head"
   ]
  },
  {
   "cell_type": "code",
   "execution_count": 107,
   "metadata": {},
   "outputs": [
    {
     "data": {
      "image/png": "[encoded data removed]",
      "text/plain": [
       "<Figure size 1080x360 with 1 Axes>"
      ]
     },
     "metadata": {
      "needs_background": "light"
     },
     "output_type": "display_data"
    }
   ],
   "source": [
    "train_accuracies = [calculate_accuracy(df.loc[:DATASET_SIZE - TEST_SIZE - 1, 'HCHI'].values, r[:DATASET_SIZE - TEST_SIZE]) for r in accepted_results]\n",
    "test_accuracies = [calculate_accuracy(df.loc[DATASET_SIZE - TEST_SIZE:, 'HCHI'].values, r[DATASET_SIZE - TEST_SIZE:]) for r in accepted_results]\n",
    "\n",
    "plt.figure(figsize = (15, 5))\n",
    "for no, r in enumerate(accepted_results):\n",
    "    plt.plot(r, label = 'forecast %d'%(no + 1))\n",
    "plt.plot(df['HCHI'], label = 'true trend', c = 'black')\n",
    "plt.legend()\n",
    "plt.title('average train accuracy: {0:.4f} \\n average test accuracy: {1:.4f}'.format(np.mean(train_accuracies), np.mean(test_accuracies)))\n",
    "\n",
    "x_range_future = np.arange(len(results[0]))\n",
    "tick_size = int(DATASET_SIZE / 20)\n",
    "plt.xticks(x_range_future[::tick_size], date_ori[::tick_size])\n",
    "plt.gcf().autofmt_xdate()\n",
    "plt.savefig('plot.png')\n",
    "plt.show()"
   ]
  },
  {
   "cell_type": "code",
   "execution_count": 14,
   "metadata": {},
   "outputs": [
    {
     "name": "stdout",
     "output_type": "stream",
     "text": [
      "[[0.40800844 0.40800817 0.40798996]]\n"
     ]
    }
   ],
   "source": [
    "accepted_results_arr = np.array(accepted_results)\n",
    "print(accepted_results_arr[:, -3:])"
   ]
  },
  {
   "cell_type": "code",
   "execution_count": 103,
   "metadata": {},
   "outputs": [],
   "source": [
    "# apple_true = np.array((256.769989, 258.73999, 258.690002))\n",
    "apple_true = np.array((257.5, 257.130005, 257.23999, 259.429993, 260.140015))"
   ]
  },
  {
   "cell_type": "code",
   "execution_count": 104,
   "metadata": {},
   "outputs": [
    {
     "name": "stdout",
     "output_type": "stream",
     "text": [
      "last_5_days:\n",
      "[[256.14439692 250.63901862 251.693824   251.88362819 252.83163022]\n",
      " [256.13927172 260.35440632 260.12555274 262.81072272 262.0365631 ]\n",
      " [250.87822534 254.34370098 261.62186624 269.30134269 264.47879113]\n",
      " [252.1567968  258.03550671 258.81993737 253.5459127  253.24749009]\n",
      " [254.33523623 258.0194085  260.30598047 262.75770029 267.05491078]\n",
      " [253.12546475 258.73195836 259.9033387  263.23624131 262.09332997]\n",
      " [254.26062706 257.53375804 257.5342592  257.65185775 257.81110624]\n",
      " [261.15909092 264.82061553 263.40692201 262.74157434 269.29185288]\n",
      " [258.21520207 262.38988126 264.10371594 267.88287266 278.96766162]\n",
      " [256.55363493 257.39604041 263.82520835 272.13500991 272.90908831]]\n"
     ]
    }
   ],
   "source": [
    "last_5_days = accepted_results_arr[:, -5:]\n",
    "print('last_5_days:')\n",
    "print(last_5_days)\n",
    "one_day_errors = []\n",
    "stock_prices = []\n",
    "for index, value in enumerate(apple_true):\n",
    "    average = np.average(last_5_days[:, index])\n",
    "    stock_prices.append(average)\n",
    "    one_day_error = np.absolute((value - average) / value)\n",
    "    one_day_errors.append(one_day_error)"
   ]
  },
  {
   "cell_type": "code",
   "execution_count": 105,
   "metadata": {},
   "outputs": [
    {
     "data": {
      "text/plain": [
       "[0.008556137191795616,\n",
       " 0.004264086066432743,\n",
       " 0.011250468883082471,\n",
       " 0.011427719750980043,\n",
       " 0.015115811513262883]"
      ]
     },
     "execution_count": 105,
     "metadata": {},
     "output_type": "execute_result"
    }
   ],
   "source": [
    "one_day_errors"
   ]
  },
  {
   "cell_type": "code",
   "execution_count": 106,
   "metadata": {},
   "outputs": [
    {
     "data": {
      "text/plain": [
       "[255.29679467311263,\n",
       " 258.22642947158226,\n",
       " 260.1340605029794,\n",
       " 262.39468625500274,\n",
       " 264.0722424337974]"
      ]
     },
     "execution_count": 106,
     "metadata": {},
     "output_type": "execute_result"
    }
   ],
   "source": [
    "stock_prices"
   ]
  },
  {
   "cell_type": "code",
   "execution_count": 107,
   "metadata": {},
   "outputs": [],
   "source": [
    "one_day_errors_raw = []\n",
    "for index, value in enumerate(apple_true):\n",
    "    average = np.average(last_5_days[:, index])\n",
    "    one_day_error_raw = (value - average) / value\n",
    "    one_day_errors_raw.append(one_day_error_raw)"
   ]
  },
  {
   "cell_type": "code",
   "execution_count": 108,
   "metadata": {},
   "outputs": [
    {
     "data": {
      "text/plain": [
       "[0.008556137191795616,\n",
       " -0.004264086066432743,\n",
       " -0.011250468883082471,\n",
       " -0.011427719750980043,\n",
       " -0.015115811513262883]"
      ]
     },
     "execution_count": 108,
     "metadata": {},
     "output_type": "execute_result"
    }
   ],
   "source": [
    "one_day_errors_raw"
   ]
  },
  {
   "cell_type": "code",
   "execution_count": 110,
   "metadata": {
    "scrolled": true
   },
   "outputs": [
    {
     "name": "stdout",
     "output_type": "stream",
     "text": [
      "three_day_avg_errors:\n",
      "[0.00802356404710361, 0.008980758233498419, 0.012598000049108465]\n",
      "three_day_avg_errors_raw:\n",
      "[-0.002319472585906533, -0.008980758233498419, -0.012598000049108465]\n",
      "three_day_exp_errors:\n",
      "[0.008472619328984753, 0.01017469718092297, 0.0132422238208052]\n",
      "three_day_exp_errors_raw:\n",
      "[-0.005620573598386215, -0.01017469718092297, -0.0132422238208052]\n"
     ]
    }
   ],
   "source": [
    "three_day_avg_errors = []\n",
    "three_day_avg_errors_raw = []\n",
    "three_day_exp_errors = []\n",
    "three_day_exp_errors_raw = []\n",
    "\n",
    "for i in range(len(one_day_errors) - 2):\n",
    "    three_day_avg_error = np.average(one_day_errors[i: i+3])\n",
    "    three_day_avg_errors.append(three_day_avg_error)\n",
    "    \n",
    "    three_day_avg_error_raw = np.average(one_day_errors_raw[i: i+3])\n",
    "    three_day_avg_errors_raw.append(three_day_avg_error_raw)\n",
    "    \n",
    "    three_day_exp_error = (one_day_errors[i] + one_day_errors[i+1] * 2 + one_day_errors[i+2] * 3) / 6\n",
    "    three_day_exp_errors.append(three_day_exp_error)\n",
    "    \n",
    "    three_day_exp_error_raw = (one_day_errors_raw[i] + one_day_errors_raw[i+1] * 2 + one_day_errors_raw[i+2] * 3) / 6\n",
    "    three_day_exp_errors_raw.append(three_day_exp_error_raw)\n",
    "\n",
    "print('three_day_avg_errors:')\n",
    "print(three_day_avg_errors)\n",
    "\n",
    "print('three_day_avg_errors_raw:')\n",
    "print(three_day_avg_errors_raw)\n",
    "\n",
    "print('three_day_exp_errors:')\n",
    "print(three_day_exp_errors)\n",
    "\n",
    "print('three_day_exp_errors_raw:')\n",
    "print(three_day_exp_errors_raw)"
   ]
  },
  {
   "cell_type": "code",
   "execution_count": 111,
   "metadata": {},
   "outputs": [],
   "source": [
    "# As shown in csv file name\n",
    "COMPANY_NAME = 'tesla'\n",
    "\n",
    "# 'High', 'Low', or 'Close'\n",
    "COLUMN_USED = 'Low'\n",
    "\n",
    "results_frame.to_csv('./{}_{}_predictions.csv'.format(COMPANY_NAME, COLUMN_USED))\n"
   ]
  },
  {
   "cell_type": "code",
   "execution_count": null,
   "metadata": {},
   "outputs": [],
   "source": []
  }
 ],
 "metadata": {
  "kernelspec": {
   "display_name": "Python 3",
   "language": "python",
   "name": "python3"
  },
  "language_info": {
   "codemirror_mode": {
    "name": "ipython",
    "version": 3
   },
   "file_extension": ".py",
   "mimetype": "text/x-python",
   "name": "python",
   "nbconvert_exporter": "python",
   "pygments_lexer": "ipython3",
   "version": "3.5.6"
  }
 },
 "nbformat": 4,
 "nbformat_minor": 2
}
